{
 "cells": [
  {
   "cell_type": "code",
   "execution_count": 1,
   "metadata": {
    "collapsed": true
   },
   "outputs": [],
   "source": [
    "import pandas as pd\n",
    "import codecs"
   ]
  },
  {
   "cell_type": "code",
   "execution_count": 181,
   "metadata": {
    "collapsed": true
   },
   "outputs": [],
   "source": [
    "# fpath = 'G:\\\\data\\\\法律数据\\\\part-00000(1)'  # added a \\n at the end of the line 8,\n",
    "fpath = 'G:\\\\data\\\\法律数据\\\\part-00000.txt' \n",
    "with codecs.open(fpath,'r','utf-8') as f:\n",
    "    lines = f.readlines()"
   ]
  },
  {
   "cell_type": "code",
   "execution_count": 183,
   "metadata": {
    "collapsed": false
   },
   "outputs": [
    {
     "data": {
      "text/plain": [
       "9650"
      ]
     },
     "execution_count": 183,
     "metadata": {},
     "output_type": "execute_result"
    }
   ],
   "source": [
    "len(lines)"
   ]
  },
  {
   "cell_type": "code",
   "execution_count": 194,
   "metadata": {
    "collapsed": true
   },
   "outputs": [],
   "source": [
    "dataList = []\n",
    "for item in lines:\n",
    "    rowStr = item.lstrip('{').rstrip('}\\n')\n",
    "    rowList = rowStr.split(',')\n",
    "    dataList.append(rowList)\n",
    "    "
   ]
  },
  {
   "cell_type": "code",
   "execution_count": 195,
   "metadata": {
    "collapsed": false
   },
   "outputs": [
    {
     "data": {
      "text/plain": [
       "9650"
      ]
     },
     "execution_count": 195,
     "metadata": {},
     "output_type": "execute_result"
    }
   ],
   "source": [
    "len(dataList)"
   ]
  },
  {
   "cell_type": "code",
   "execution_count": 200,
   "metadata": {
    "collapsed": false
   },
   "outputs": [
    {
     "data": {
      "text/plain": [
       "['\"province\": \"四川省\"',\n",
       " ' \"claimant\": \"成都市青羊区人民检察院\"',\n",
       " ' \"simple\": \"0\"',\n",
       " ' \"tr_type\": \"合议庭\"',\n",
       " ' \"ca_type\": \"刑事案件\"',\n",
       " ' \"ac_amount\": \"\"',\n",
       " ' \"result\": \"其他\"',\n",
       " ' \"tier\": \"基层人民法院\"',\n",
       " ' \"reprieve\": \"\"',\n",
       " ' \"city\": \"成都\"',\n",
       " ' \"ch_judate\": \"\"',\n",
       " ' \"court\": \"成都市青羊区人民法院\"',\n",
       " ' \"ca_num\": \"（2013）青羊刑初字第274号\"',\n",
       " ' \"ju_date\": \"2013-04-27\"',\n",
       " ' \"re_court\": \"\"',\n",
       " ' \"re_canum\": \"\"',\n",
       " ' \"cl_nature\": \"企业、机构\"',\n",
       " ' \"de_nature\": \"个人\"',\n",
       " ' \"defendant\": \"唐某\"',\n",
       " ' \"body\": \"!当事人信息：公诉机关成都市青羊区人民检察院。\\\\n被告人唐某。\\\\n\\\\n!审理经过：成都市青羊区人民检察院以成青检刑诉（2013）第317号起诉书指控被告人唐某犯故意伤害罪，于2013年4月15日向本院提起公诉。本院依法组成合议庭，公开开庭进行了审理。成都市青羊区人民检察院指派代理检察员张振华、书记员范杰出庭支持公诉。被告人唐某到庭参加了诉讼。现已审理终结。\\\\n\\\\n!原告诉称：成都市青羊区人民检察院指控：被告人唐某与前妻熊某某因感情纠纷长期发生争执。2013年1月24日13时许，二人在本市青羊区苏坡乡黄土村”乐山名小吃”店门口发生争执，后在朋友劝说下准备到附近茶坊协商，在去茶坊的途中，唐某用随身携带的美工刀威胁熊不让其离开，在抓扯中唐某用美工刀将熊某某的手部划伤，并将其挟持到黄土村9组路边小巷内，当熊某某的朋友赶到时，唐某持刀威胁其朋友不准靠近，并再次用美工刀将熊某某面部刺伤。随后逃离现场到成都市公安局青羊区分局苏坡桥派出所投案自首。被告人熊某某经鉴定为轻伤。\\\\n为支持上述事实的成立，成都市青羊区人民检察院向本院当庭宣读并出示了到案经过、被告人的供述、被害人的陈述、证人证言、辨认笔录、鉴定结论书等证据。根据以上事实和证据，成都市青羊区人民检察院认为被告人唐某的行为已构成故意伤害罪，有自首情节。请求依照《中华人民共和国刑法》第二百三十四条、第六十七条的规定对被告人唐某定罪量刑。\\\\n\\\\n!被告辩称：被告人唐某对控方指控的罪名及事实均无异议。\\\\n\\\\n!本院查明：经审理查明：被告人唐某与被害人熊某某曾系夫妻，2011年6月离婚，后因感情纠纷长期发生争执。2013年1月24日13时许，被告人唐某在本市青羊区苏坡乡黄土村”乐山名小吃”店找到被害人熊某某，双方发生争执，后在朋友劝说下准备到附近茶坊协商，在去茶坊的途中，被告人唐某用随身携带的美工刀威胁熊不让其离开，在抓扯过程中被告人唐某用美工刀将熊某某的手部划伤，并将其挟持到黄土村9组路边小巷内，当熊某某的朋友赶到时，唐某持刀威胁其朋友不准靠近，并再次用美工刀将熊某某面部刺伤。随后逃离现场到成都市公安局青羊区分局苏坡桥派出所投案自首。\\\\n另查明，本案在审理过程中，被害人熊某某向本院提交刑事附带民事诉状，要求追究被告人唐某的刑事责任，同时要求进行民事赔偿。经本院主持调解，被害人熊某某自愿向本院提出撤回刑事附带民事诉讼。\\\\n上述事实有到案经过、被告人的供述、被害人的陈述、证人证言、现场照片、辨认笔录、作案工具照片、扣押清单、医院证明、书证、伤情鉴定结论书、撤诉申请等证据证实。\\\\n上述证据经庭审举证、质证，查证属实，本院予以确认。\\\\n\\\\n!本院认为：本院认为，被告人唐某因与被害人发生感情纠纷，故意伤害被害人身体健康，致其轻伤，其行为构成故意伤害罪。公诉机关指控的犯罪事实清楚，证据确实充分，本院予以支持。被告人唐某在案发后，主动到公安机关投案，有自首情节，可从轻处罚；被告人唐某认罪态度较好，无前科，系初犯，可酌情从轻处罚。综上，为保护公民的人身权利不受侵犯，打击犯罪，依照《中华人民共和国刑法》第二百三十四条第一款、第六十一条、第六十七条之规定，判决如下：\\\\n\\\\n!裁判结果：被告人唐某犯故意伤害罪，判处有期徒刑九个月。\\\\n（刑期从判决执行之日起计算。判决执行以前先行羁押的，羁押一日折抵刑期一日。即自2013年1月25日起至2013年10月24日止。）\\\\n如不服本判决，可在接到判决书的第二日起十日内，通过本院或者直接向四川省成都市中级人民法院上诉。书面上诉的，应当提交上诉状正本一份，副本一份。\\\\n\\\\n!审判人员：审判长何丽\\\\n人民陪审员陈祥凤\\\\n人民陪审员唐金成\\\\n\\\\n!裁判日期：二〇一三年四月二十七日\\\\n\\\\n!书记员：书记员吕德聪\"',\n",
       " ' \"iden_spon\": \"\"',\n",
       " ' \"expropriation\": \"\"',\n",
       " ' \"cl_lawyer\": \"\"',\n",
       " ' \"clerk\": \"吕德聪\"',\n",
       " ' \"update\": \"2014-11-25\"',\n",
       " ' \"judge\": \"何丽\"',\n",
       " ' \"law\": \"《中华人民共和国刑法》第二百三十四条第一款；《中华人民共和国刑法》第六十一条；《中华人民共和国刑法》第六十七条\"',\n",
       " ' \"nonage\": \"\"',\n",
       " ' \"doc_type\": \"判决书\"',\n",
       " ' \"term\": \"\"',\n",
       " ' \"ap_amount\": \"\"',\n",
       " ' \"de_lawyer\": \"\"',\n",
       " ' \"pay_rate\": \"0.0%\"',\n",
       " ' \"tr_proc\": \"一审\"',\n",
       " ' \"juror\": \"陈祥凤;唐金成\"',\n",
       " ' \"iden_ins\": \"\"',\n",
       " ' \"ca_cause\": \"故意伤害罪\"',\n",
       " ' \"guide\": \"\"}\\n']"
      ]
     },
     "execution_count": 200,
     "metadata": {},
     "output_type": "execute_result"
    }
   ],
   "source": [
    "dataList[100]"
   ]
  },
  {
   "cell_type": "code",
   "execution_count": 198,
   "metadata": {
    "collapsed": false
   },
   "outputs": [
    {
     "ename": "SyntaxError",
     "evalue": "invalid syntax (<string>, line 1)",
     "output_type": "error",
     "traceback": [
      "Traceback \u001b[1;36m(most recent call last)\u001b[0m:\n",
      "  File \u001b[0;32m\"D:\\Anaconda3\\lib\\site-packages\\IPython\\core\\interactiveshell.py\"\u001b[0m, line \u001b[0;32m2910\u001b[0m, in \u001b[0;35mrun_code\u001b[0m\n    exec(code_obj, self.user_global_ns, self.user_ns)\n",
      "  File \u001b[0;32m\"<ipython-input-198-c132a3e085ab>\"\u001b[0m, line \u001b[0;32m8\u001b[0m, in \u001b[0;35m<module>\u001b[0m\n    dicList = [list2dict(item) for item in dataList]\n",
      "  File \u001b[0;32m\"<ipython-input-198-c132a3e085ab>\"\u001b[0m, line \u001b[0;32m8\u001b[0m, in \u001b[0;35m<listcomp>\u001b[0m\n    dicList = [list2dict(item) for item in dataList]\n",
      "\u001b[1;36m  File \u001b[1;32m\"<ipython-input-198-c132a3e085ab>\"\u001b[1;36m, line \u001b[1;32m4\u001b[1;36m, in \u001b[1;35mlist2dict\u001b[1;36m\u001b[0m\n\u001b[1;33m    (key,val) = (eval(pair[0]),eval(pair[1]))  # delete the \"\"\u001b[0m\n",
      "\u001b[1;36m  File \u001b[1;32m\"<string>\"\u001b[1;36m, line \u001b[1;32m1\u001b[0m\n\u001b[1;33m    \"\"}\u001b[0m\n\u001b[1;37m      ^\u001b[0m\n\u001b[1;31mSyntaxError\u001b[0m\u001b[1;31m:\u001b[0m invalid syntax\n"
     ]
    }
   ],
   "source": [
    "def list2dict(lis):\n",
    "    for item in lis:\n",
    "        pair = item.split(':')\n",
    "        (key,val) = (eval(pair[0]),eval(pair[1]))  # delete the \"\"\n",
    "        dic[key] = val\n",
    "    return dic\n",
    "\n",
    "dicList = [list2dict(item) for item in dataList]\n",
    "    \n",
    "\n",
    "        \n",
    "    \n",
    "\n",
    "# dic={}\n",
    "#     for itm in tmplist:               #delete the first key \"province\"\n",
    "#         pair = itm.split(':')            #\n",
    "#         (key,val) = (eval(pair[0]),eval(pair[1]))  # delete the \"\"\n",
    "#         dic[key] = val\n",
    "#         dicList.append(dic)"
   ]
  },
  {
   "cell_type": "code",
   "execution_count": 199,
   "metadata": {
    "collapsed": false
   },
   "outputs": [
    {
     "data": {
      "text/plain": [
       "37"
      ]
     },
     "execution_count": 199,
     "metadata": {},
     "output_type": "execute_result"
    }
   ],
   "source": [
    "len(dicList)"
   ]
  },
  {
   "cell_type": "code",
   "execution_count": 190,
   "metadata": {
    "collapsed": true
   },
   "outputs": [],
   "source": [
    "tmp = lines[8]\n",
    "tmp0 = tmp.lstrip('{').rstrip('}\\n')\n",
    "tmp1 = tmp0.split(',')"
   ]
  },
  {
   "cell_type": "code",
   "execution_count": 191,
   "metadata": {
    "collapsed": false
   },
   "outputs": [
    {
     "data": {
      "text/plain": [
       "'{\"province\": \"四川省\", \"claimant\": \"自贡市自流井区人民检察院\", \"simple\": \"0\", \"tr_type\": \"普通\", \"ca_type\": \"刑事案件\", \"ac_amount\": \"\", \"result\": \"其他\", \"tier\": \"基层人民法院\", \"reprieve\": \"\", \"city\": \"自贡\", \"ch_judate\": \"\", \"court\": \"自贡市自流井区人民法院\", \"ca_num\": \"（2015）自流刑初字第38号\", \"ju_date\": \"2015-02-06\", \"re_court\": \"\", \"re_canum\": \"\", \"cl_nature\": \"企业、机构\", \"de_nature\": \"个人\", \"defendant\": \"税某甲\", \"body\": \"!当事人信息：公诉机关自贡市自流井区人民检察院。\\\\n被告人税某甲，男，1957年10月29日出生，汉族，四川省自贡市人，初中文化，企业退休人员，住四川省自贡市自流井区。2013年12月24日因涉嫌故意伤害罪被自贡市公安局自流井区分局刑事拘留，2014年1月16日因无逮捕必要被依法取保候审。\\\\n辩护人杨春林，四川平杨律师事务所律师。\\\\n\\\\n!审理经过：自贡市自流井区人民检察院以自井检公诉刑诉（2014）311号起诉书指控被告人税某甲犯故意伤害罪，于2014年12月4日向本院提起公诉。本院依法适用普通程序，组成合议庭，于2015年1月30日和2月6日公开开庭进行了审理。自贡市自流井区人民检察院指派检察员邱琳出庭支持公诉，被告人税某甲及其辩护人杨春林到庭参加诉讼。本案现已审理终结。\\\\n\\\\n!原告诉称：自贡市自流井区人民检察院指控，2013年12月24日，自贡市自流井区郭家坳土地坡荣盛井3号1门附12号正在进行房屋装修，被害人刘某某受雇从事打墙的泥工工作。当日中午1时许，居住在该栋1门附14号的被告人税某甲以楼下装修损坏自家房屋设施为由，持菜刀进入该装修房内，朝被害人刘某某额头上砍了一刀，致使被害人刘某某受伤。2014年12月3日，被告人税某甲家属代为赔偿被害人刘某某2，000元，并取得被害人谅解。\\\\n经自贡市公安局物证鉴定所鉴定，被害人刘某某的伤情为轻伤二级；经四川正泰精神医院司法鉴定所鉴定，被鉴定人税某甲患精神分裂症，对本次作案有限定刑事责任能力。公诉机关提供相应的证据指控认为，被告人税某甲故意伤害他人身体致人轻伤，应当以故意伤害罪追究其刑事责任；被告人税某甲系尚未完全丧失或者控制自己行为能力的精神病人犯罪，依法可以从轻或者减轻处罚。\\\\n\\\\n!被告辩称：被告人税某甲对公诉机关指控的罪名及犯罪事实无异议，并自愿认罪。\\\\n辩护人杨春林认为：1、被告人税某甲认罪态度较好系初犯、偶犯；2、其家属对被害人进行了民事赔偿并取得其谅解；3、被告人税某甲系精神分裂症，对本次作案有限定刑事责任能力，建议对税某甲予以减轻处罚即免予刑事处罚。\\\\n\\\\n!本院查明：经审理查明，2013年12月24日，被害人刘某某在自贡市自流井区郭家坳土地坡荣盛井小区3号1门附12号从事装修的泥工工作。当天中午13时许，住在楼上的被告人税某甲以被告人刘某某进行装修损坏其房屋设施为由持菜刀窜至该装修房屋与刘某某发生纠纷。随即被告人税某甲持菜刀将被害人刘某某面部砍伤。后被告人税某甲逃离案发现场。2013年12月24日，民警在被告人税某甲家中将其抓获。\\\\n经自贡市公安局物证鉴定所鉴定，被害人刘某某的伤情为轻伤二级；经四川正泰精神医院司法鉴定所鉴定，被鉴定人税某甲患精神分裂症，对本次作案有限定刑事责任能力。\\\\n案发后，被告人税某甲的家属代为赔偿了被害人刘某某的损失人民币2，000元并取得其谅解；装修房房主张某支付了被害人刘某某的损失人民币2，000元。在本院审理过程中，被告人税某甲家属再次赔偿被害人刘某某损失人民币1，000元，被害人刘某某再次写出谅解书要求司法机关减轻处罚被告人税某甲，建议对其免予刑事处罚。\\\\n上述事实，被告人税某甲在开庭审理过程中亦无异议，且有接受刑事案件登记表，立案决定书，拘留证，取保候审决定书，自贡市公安局物证鉴定所法医学人体损伤程度鉴定书及通知书，四川正泰精神病医学司法鉴定所鉴定意见书，被告人税玉权的户籍信息资料，辨认笔录及照片，提取笔录，图片说明，现场勘验笔录，到案情况说明，收条，谅解书，证人李某甲、李某乙、李某丙、甘某某、张某、税某乙等人的证言，被害人刘某某的陈述，被告人税某甲的供述及辩解等证据证实，足以认定。\\\\n\\\\n!本院认为：本院认为，根据《中华人民共和国刑法》第二百三十四条第一款“故意伤害他人身体的，处三年以下有期徒刑、拘役或者管制”之规定，被告人税某甲持刀故意伤害他人身体并致人轻伤，其行为已构成故意伤害罪。公诉机关指控的罪名成立。\\\\n根据《中华人民共和国刑法》第六十七条第三款“犯罪嫌疑人虽不具有前两款规定的自首情节，但是如实供述自己罪行的，可以从轻处罚；因其如实供述自己罪行，避免特别严重后果发生的，可以减轻处罚”之规定，被告人税某甲在犯罪后如实供述自己的犯罪事实，依法可以从轻处罚。\\\\n根据《中华人民共和国刑法》第十八条第三款“尚未完全丧失辨认或者控制自己行为能力的精神病人犯罪的，应当负刑事责任，但是可以从轻或者减轻处罚”之规定，被告人税某甲患有精神分裂症，在实施犯罪行为时系限定刑事责任能力人，依法可以从轻或者减轻处罚。\\\\n案发后，被告人税某甲的亲属对被害人进行了赔偿，取得被害人对税某甲的谅解，可酌情从轻处罚。\\\\n根据《中华人民共和国刑法》第三十七条“对于犯罪情节轻微不需要判处刑罚的，可以免予刑事处罚，但是可以根据案件的不同情况，予以训诫或者责令具结悔过、赔礼道歉、赔偿损失，或者由主管部门予以行政处罚或者行政处分”之规定，综合本案查明的事实，被告人税某甲的犯罪情节轻微，本院决定对其免予刑事处罚。辩护人杨春林的辩护意见，符合本案查明的事实及法律规定，本院予以采纳。\\\\n据此，依照《中华人民共和国刑法》第二百三十四条第一款、第十八条第三款、第三十七条、第六十七条第三款之规定，判决如下：\\\\n\\\\n!裁判结果：被告人税某甲犯故意伤害罪，免予刑事处罚。\\\\n如不服本判决，自接到本判决书的第二日起十日内，通过本院或者直接向四川省自贡市中级人民法院提出上诉，书面上诉的，应当提交上诉状正本一份，副本二份。\\\\n\\\\n!审判人员：审判长曾享政\\\\n审判员林文清人民陪审员余德华\\\\n\\\\n!裁判日期：二〇一五年二月六日\\\\n\\\\n!书记员：书记员陈龙\", \"iden_spon\": \"\", \"expropriation\": \"\", \"cl_lawyer\": \"\", \"clerk\": \"陈龙\", \"update\": \"2015-03-26\", \"judge\": \"曾享政;林文清\", \"law\": \"《中华人民共和国刑法》第二百三十四条第一款；《中华人民共和国刑法》第十八条第三款；《中华人民共和国刑法》第三十七条；《中华人民共和国刑法》第六十七条第三款\", \"nonage\": \"\", \"doc_type\": \"判决书\", \"term\": \"\", \"ap_amount\": \"2000.0\", \"de_lawyer\": \"杨春林,四川平扬律师事务所\", \"pay_rate\": \"0.0%\", \"tr_proc\": \"一审\", \"juror\": \"\", \"iden_ins\": \"\", \"ca_cause\": \"故意伤害罪\", \"guide\": \"\"}\\n'"
      ]
     },
     "execution_count": 191,
     "metadata": {},
     "output_type": "execute_result"
    }
   ],
   "source": [
    "tmp"
   ]
  },
  {
   "cell_type": "code",
   "execution_count": 160,
   "metadata": {
    "collapsed": true
   },
   "outputs": [],
   "source": [
    "# tmp1"
   ]
  },
  {
   "cell_type": "code",
   "execution_count": 136,
   "metadata": {
    "collapsed": true
   },
   "outputs": [],
   "source": [
    "dic1={}\n",
    "for item in tmp1:               #delete the first key \"province\"\n",
    "    pair = item.split(':')            #\n",
    "    (key,val) = (eval(pair[0]),eval(pair[1]))  # delete the \"\"\n",
    "    dic1[key] = val"
   ]
  },
  {
   "cell_type": "code",
   "execution_count": 137,
   "metadata": {
    "collapsed": false
   },
   "outputs": [
    {
     "data": {
      "text/plain": [
       "{'ac_amount': '',\n",
       " 'ap_amount': '',\n",
       " 'body': '!当事人信息：公诉机关成都市青白江区人民检察院。\\n被告人万忠明。\\n\\n!审理经过：成都市青白江区人民检察院以成青白检公诉刑诉（2014）22号起诉书指控被告人万忠明犯故意伤害罪，于2014年1月27日向本院提起公诉。本院依法组成合议庭，公开开庭审理了本案。成都市青白江区人民检察院指派代理检察员伍炳章、潘玺长臣出庭支持公诉，被告人万忠明到庭参加诉讼。现已审理终结。\\n\\n!原告诉称：成都市青白江区人民检察院指控，2013年8月24日21时许，被害人叶廷贵和朋友范意民到位于本区城厢镇十五里小区42栋3单元1楼1号的被告人万忠明家玩耍，因被害人叶廷贵酒后失态，用脚搓踏万忠明家蒜苗并让其拿钱用，引起被告人万忠明的不满和愤怒，继而双方由口角之争转变为扭打。期间，万忠明用自家的榔头击打叶廷贵头部，被范意民拦住后又从厨房拿出一把菜刀将叶廷贵左手砍伤，造成叶廷贵头部和左手受伤。\\n经鉴定，叶廷贵所受伤害评定为重伤。\\n案发后，被告人万忠明主动报警后滞留现场至公安民警到达后归案。\\n为支持指控事实，公诉机关提交了以下证据予以证明：被害人陈述、证人证言、法医学人体损伤程度鉴定书、现场勘验辨认笔录、户籍证明、到案经过、刑事判决书以及被告人供述等。请求本院以故意伤害罪追究被告人万忠明的刑事责任。\\n\\n!被告辩称：被告人万忠明对指控事实及证据均无异议，并表示自愿认罪。并以其父年龄大、其妻有病需要照顾为由，请求从轻处罚。\\n\\n!本院查明：经审理查明的事实及证据与公诉机关的指控事实及证据一致，本院予以确认。\\n\\n!本院认为：本院认为，被告人万忠明故意伤害他人身体，致人重伤，其行为已构成故意伤害罪。公诉机关指控罪名成立。对被告人万忠明依法应当判处三年以上十年以下有期徒刑。被告人万忠明有自首情节，可以从轻或者减轻处罚。据此，依照《中华人民共和国刑法》第二百三十四条第二款、第六十七条第一款之规定，判决如下：\\n\\n!裁判结果：被告人万忠明犯故意伤害罪，判处有期徒刑二年。\\n（刑期从判决执行之日起计算。判决执行以前先行羁押的，羁押一日折抵刑期一日，即自2013年12月12日起至2015年12月11日止。）\\n如不服本判决，可在接到判决书的第二日起十日内，通过本院或者直接向四川省成都市中级人民法院提出上诉。书面上诉的，应当提交上诉状正本一份，副本二份。\\n\\n!审判人员：审判长曾启俊\\n人民陪审员黄仁富\\n人民陪审员秦徽武\\n\\n!裁判日期：二〇一四年二月十一日\\n\\n!书记员：书记员张楠',\n",
       " 'ca_cause': '故意伤害罪',\n",
       " 'ca_num': '（2014）青白刑初字第41号',\n",
       " 'ca_type': '刑事',\n",
       " 'ch_judate': '',\n",
       " 'city': '成都',\n",
       " 'cl_lawyer': '',\n",
       " 'cl_nature': '企业、机构',\n",
       " 'claimant': '成都市青白江区人民检察院',\n",
       " 'clerk': '张楠',\n",
       " 'court': '成都市青白江区人民法院',\n",
       " 'de_lawyer': '',\n",
       " 'de_nature': '个人',\n",
       " 'defendant': '万忠明',\n",
       " 'doc_type': '判决书',\n",
       " 'expropriation': '',\n",
       " 'guide': '',\n",
       " 'iden_ins': '',\n",
       " 'iden_spon': '',\n",
       " 'ju_date': '2014-02-11',\n",
       " 'judge': '曾启俊',\n",
       " 'juror': '黄仁富;秦徽武',\n",
       " 'law': '《中华人民共和国刑法》第二百三十四条第二款；《中华人民共和国刑法》第六十七条第一款',\n",
       " 'nonage': '',\n",
       " 'pay_rate': '0.0%',\n",
       " 'province': '四川省',\n",
       " 're_canum': '',\n",
       " 're_court': '',\n",
       " 'reprieve': '',\n",
       " 'result': '其他',\n",
       " 'simple': '0',\n",
       " 'term': '',\n",
       " 'tier': '基层人民法院',\n",
       " 'tr_proc': '一审',\n",
       " 'tr_type': '合议庭',\n",
       " 'update': '2014-07-16'}"
      ]
     },
     "execution_count": 137,
     "metadata": {},
     "output_type": "execute_result"
    }
   ],
   "source": [
    "len(dic1)\n",
    "dic1"
   ]
  },
  {
   "cell_type": "code",
   "execution_count": 143,
   "metadata": {
    "collapsed": true
   },
   "outputs": [],
   "source": [
    "# list(dic1.keys())"
   ]
  },
  {
   "cell_type": "code",
   "execution_count": 149,
   "metadata": {
    "collapsed": true
   },
   "outputs": [],
   "source": [
    "pd.DataFrame.from_dict?"
   ]
  },
  {
   "cell_type": "code",
   "execution_count": 152,
   "metadata": {
    "collapsed": true
   },
   "outputs": [],
   "source": [
    "df1?"
   ]
  },
  {
   "cell_type": "code",
   "execution_count": 155,
   "metadata": {
    "collapsed": false
   },
   "outputs": [
    {
     "data": {
      "text/html": [
       "<div>\n",
       "<style scoped>\n",
       "    .dataframe tbody tr th:only-of-type {\n",
       "        vertical-align: middle;\n",
       "    }\n",
       "\n",
       "    .dataframe tbody tr th {\n",
       "        vertical-align: top;\n",
       "    }\n",
       "\n",
       "    .dataframe thead th {\n",
       "        text-align: right;\n",
       "    }\n",
       "</style>\n",
       "<table border=\"1\" class=\"dataframe\">\n",
       "  <thead>\n",
       "    <tr style=\"text-align: right;\">\n",
       "      <th></th>\n",
       "      <th>province</th>\n",
       "      <th>claimant</th>\n",
       "      <th>simple</th>\n",
       "      <th>tr_type</th>\n",
       "      <th>ca_type</th>\n",
       "      <th>ac_amount</th>\n",
       "      <th>result</th>\n",
       "      <th>tier</th>\n",
       "      <th>reprieve</th>\n",
       "      <th>city</th>\n",
       "      <th>...</th>\n",
       "      <th>doc_type</th>\n",
       "      <th>term</th>\n",
       "      <th>ap_amount</th>\n",
       "      <th>de_lawyer</th>\n",
       "      <th>pay_rate</th>\n",
       "      <th>tr_proc</th>\n",
       "      <th>juror</th>\n",
       "      <th>iden_ins</th>\n",
       "      <th>ca_cause</th>\n",
       "      <th>guide</th>\n",
       "    </tr>\n",
       "  </thead>\n",
       "  <tbody>\n",
       "    <tr>\n",
       "      <th>0</th>\n",
       "      <td>四川省</td>\n",
       "      <td>成都市青白江区人民检察院</td>\n",
       "      <td>0</td>\n",
       "      <td>合议庭</td>\n",
       "      <td>刑事</td>\n",
       "      <td></td>\n",
       "      <td>其他</td>\n",
       "      <td>基层人民法院</td>\n",
       "      <td></td>\n",
       "      <td>成都</td>\n",
       "      <td>...</td>\n",
       "      <td>判决书</td>\n",
       "      <td></td>\n",
       "      <td></td>\n",
       "      <td></td>\n",
       "      <td>0.0%</td>\n",
       "      <td>一审</td>\n",
       "      <td>黄仁富;秦徽武</td>\n",
       "      <td></td>\n",
       "      <td>故意伤害罪</td>\n",
       "      <td></td>\n",
       "    </tr>\n",
       "  </tbody>\n",
       "</table>\n",
       "<p>1 rows × 38 columns</p>\n",
       "</div>"
      ],
      "text/plain": [
       "  province      claimant simple tr_type ca_type ac_amount result    tier  \\\n",
       "0      四川省  成都市青白江区人民检察院      0     合议庭      刑事               其他  基层人民法院   \n",
       "\n",
       "  reprieve city  ...  doc_type term ap_amount de_lawyer pay_rate tr_proc  \\\n",
       "0            成都  ...       判决书                              0.0%      一审   \n",
       "\n",
       "     juror iden_ins ca_cause guide  \n",
       "0  黄仁富;秦徽武             故意伤害罪        \n",
       "\n",
       "[1 rows x 38 columns]"
      ]
     },
     "execution_count": 155,
     "metadata": {},
     "output_type": "execute_result"
    }
   ],
   "source": [
    "# df1 = pd.DataFrame(dic1.items(), columns=['Date', 'DateValue'])\n",
    "# df1 = pd.DataFrame(dic1.items(), columns=list(dic1.keys()) )\n",
    "df1 = pd.DataFrame.from_dict(dic1, orient='index').transpose()\n",
    "df1"
   ]
  }
 ],
 "metadata": {
  "kernelspec": {
   "display_name": "Python 3",
   "language": "python",
   "name": "python3"
  },
  "language_info": {
   "codemirror_mode": {
    "name": "ipython",
    "version": 3
   },
   "file_extension": ".py",
   "mimetype": "text/x-python",
   "name": "python",
   "nbconvert_exporter": "python",
   "pygments_lexer": "ipython3",
   "version": "3.6.0"
  }
 },
 "nbformat": 4,
 "nbformat_minor": 2
}
